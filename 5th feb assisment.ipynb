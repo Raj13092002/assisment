{
 "cells": [
  {
   "cell_type": "raw",
   "id": "550c8017",
   "metadata": {},
   "source": [
    "#1.\n",
    "# class is bascially the functions of  the blue print that help to bulid or construct a function.\n",
    "# object is the instance of class by which we can call them\n",
    "for example\n"
   ]
  },
  {
   "cell_type": "code",
   "execution_count": 4,
   "id": "7d87a983",
   "metadata": {},
   "outputs": [],
   "source": [
    "class student:\n",
    "    def __init__(self,name,sub,score):\n",
    "        self.name=name\n",
    "        self.sub=sub\n",
    "        self.score=score\n",
    "    def return_detalis(self):\n",
    "        return self.name,self.sub,self.score\n",
    "        \n",
    "    \n",
    "student1=student(\"raj\",\"math\",100)"
   ]
  },
  {
   "cell_type": "code",
   "execution_count": 6,
   "id": "3cfc1f1e",
   "metadata": {},
   "outputs": [
    {
     "data": {
      "text/plain": [
       "'raj'"
      ]
     },
     "execution_count": 6,
     "metadata": {},
     "output_type": "execute_result"
    }
   ],
   "source": [
    "student1.name"
   ]
  },
  {
   "cell_type": "raw",
   "id": "10237b9c",
   "metadata": {},
   "source": [
    "2.the four piller of opps is-\n",
    "(1)inheritence\n",
    "(2)polymorphism\n",
    "(3)encapsulation\n",
    "(4)Abstraction"
   ]
  },
  {
   "cell_type": "raw",
   "id": "1b16f808",
   "metadata": {},
   "source": [
    "3. __init__ --> basically it is the contructor by that is used to initilized the object state of function of class.\n",
    "def __init__(self,name,sub,score):\n",
    "        self.name=name\n",
    "        self.sub=sub\n",
    "        self.score=score"
   ]
  },
  {
   "cell_type": "raw",
   "id": "7bbea5eb",
   "metadata": {},
   "source": [
    "4. self is used to access the attribute and method of class in python by this we can binds attribute with the given argument.\n",
    "\n"
   ]
  },
  {
   "cell_type": "raw",
   "id": "ae83bde1",
   "metadata": {},
   "source": [
    "5.inheritence is the one of the four pillar of the class by this we can access the property of the function to the another class. \n",
    "the type of inheritence are\n",
    "(a)single inheritance\n",
    "(b) multilevel inheritance\n",
    "(c)multiple inheritance\n",
    "(d)hybrid inheritance\n",
    "(e)Hierarchical inheritance"
   ]
  }
 ],
 "metadata": {
  "kernelspec": {
   "display_name": "Python 3 (ipykernel)",
   "language": "python",
   "name": "python3"
  },
  "language_info": {
   "codemirror_mode": {
    "name": "ipython",
    "version": 3
   },
   "file_extension": ".py",
   "mimetype": "text/x-python",
   "name": "python",
   "nbconvert_exporter": "python",
   "pygments_lexer": "ipython3",
   "version": "3.9.6"
  }
 },
 "nbformat": 4,
 "nbformat_minor": 5
}
